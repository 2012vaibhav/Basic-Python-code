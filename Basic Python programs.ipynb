{
    "cells": [
        {
            "metadata": {},
            "cell_type": "markdown",
            "source": "Swapping of Two elements"
        },
        {
            "metadata": {},
            "cell_type": "code",
            "source": "def swap(i,j,arr):\n    arr[i],arr[j] = arr[j],arr[i]\n    return arr\nx = [1,2,3,4,5,6]\nprint(swap(1,3,x))    ",
            "execution_count": 8,
            "outputs": [
                {
                    "output_type": "stream",
                    "text": "[1, 4, 3, 2, 5, 6]\n",
                    "name": "stdout"
                }
            ]
        },
        {
            "metadata": {},
            "cell_type": "markdown",
            "source": "Delete nth occurence of the given world in the list\nHere we want to delete 2nd occurence of Can from the list"
        },
        {
            "metadata": {},
            "cell_type": "code",
            "source": "def delete(lst,word,pos):\n    cnt = 0\n    i = 0\n    for x in a:\n        i = i+1\n        if(x == word):\n            cnt = cnt+1\n            if(cnt ==pos):\n                a.pop(i-1)\n    return lst\n\na = [\"can\", \"you\",  \"can\", \"a\", \"can\", \"?\"]\nprint(delete(a,\"can\",2))\n",
            "execution_count": 9,
            "outputs": [
                {
                    "output_type": "stream",
                    "text": "['can', 'you', 'a', 'can', '?']\n",
                    "name": "stdout"
                }
            ]
        },
        {
            "metadata": {},
            "cell_type": "markdown",
            "source": "Reverse the list using slicing approach"
        },
        {
            "metadata": {},
            "cell_type": "code",
            "source": "def rev(lst):\n    return lst[::-1]\n\nx = [1,2,3,4,5]\nprint(rev(x))",
            "execution_count": 11,
            "outputs": [
                {
                    "output_type": "stream",
                    "text": "[5, 4, 3, 2, 1]\n",
                    "name": "stdout"
                }
            ]
        },
        {
            "metadata": {},
            "cell_type": "markdown",
            "source": "Clone the list using slicing technique"
        },
        {
            "metadata": {},
            "cell_type": "code",
            "source": "def clone(lst):\n    new = lst[:]\n    return new\ny = [1,1,1,2,3,4,5,5]\nprint(clone(y))",
            "execution_count": 13,
            "outputs": [
                {
                    "output_type": "stream",
                    "text": "[1, 1, 1, 2, 3, 4, 5, 5]\n",
                    "name": "stdout"
                }
            ]
        },
        {
            "metadata": {},
            "cell_type": "markdown",
            "source": "Multiple ways to print smallest number in the list"
        },
        {
            "metadata": {},
            "cell_type": "code",
            "source": "x = [22,32,13,66,5,3,33,2,435,7,7]\nx.sort()\nprint(\"The smallest number in the list is \", *x[:1])",
            "execution_count": 3,
            "outputs": [
                {
                    "output_type": "stream",
                    "text": "The smallest number in the list is  2\n",
                    "name": "stdout"
                }
            ]
        },
        {
            "metadata": {},
            "cell_type": "markdown",
            "source": "Find Nth Largest number from the list"
        },
        {
            "metadata": {},
            "cell_type": "code",
            "source": "x = [22,3,2,34,5,66,4,22,3,44,56,7,7]\nx.sort()\ndef find(x,n):\n    print(n,\"th Highest number is \", x[n])\nfind(x,3)",
            "execution_count": 4,
            "outputs": [
                {
                    "output_type": "stream",
                    "text": "3 th Highest number is  4\n",
                    "name": "stdout"
                }
            ]
        },
        {
            "metadata": {},
            "cell_type": "markdown",
            "source": "Single line programm to find even number from the same list"
        },
        {
            "metadata": {},
            "cell_type": "code",
            "source": "[i for i in x if i%2==0]",
            "execution_count": 5,
            "outputs": [
                {
                    "output_type": "execute_result",
                    "execution_count": 5,
                    "data": {
                        "text/plain": "[2, 4, 22, 22, 34, 44, 56, 66]"
                    },
                    "metadata": {}
                }
            ]
        },
        {
            "metadata": {},
            "cell_type": "markdown",
            "source": "Programm to print even number from the given range"
        },
        {
            "metadata": {},
            "cell_type": "code",
            "source": "def evenrange(start,end):\n    for x in [i for i in range(start,end) if i%2 ==0]:\n        print(x)\nevenrange(3,13)",
            "execution_count": 7,
            "outputs": [
                {
                    "output_type": "stream",
                    "text": "4\n6\n8\n10\n12\n",
                    "name": "stdout"
                }
            ]
        },
        {
            "metadata": {},
            "cell_type": "markdown",
            "source": "Print All number which are not in the given range\neg. Here the output shows all number except the numbers in the range of 1 and 8"
        },
        {
            "metadata": {},
            "cell_type": "code",
            "source": "[i for i in x if (i not in range(1,8))]",
            "execution_count": 8,
            "outputs": [
                {
                    "output_type": "execute_result",
                    "execution_count": 8,
                    "data": {
                        "text/plain": "[22, 22, 34, 44, 56, 66]"
                    },
                    "metadata": {}
                }
            ]
        },
        {
            "metadata": {},
            "cell_type": "code",
            "source": "",
            "execution_count": null,
            "outputs": []
        }
    ],
    "metadata": {
        "kernelspec": {
            "name": "python3",
            "display_name": "Python 3.6",
            "language": "python"
        },
        "language_info": {
            "name": "python",
            "version": "3.6.9",
            "mimetype": "text/x-python",
            "codemirror_mode": {
                "name": "ipython",
                "version": 3
            },
            "pygments_lexer": "ipython3",
            "nbconvert_exporter": "python",
            "file_extension": ".py"
        }
    },
    "nbformat": 4,
    "nbformat_minor": 1
}